{
 "cells": [
  {
   "cell_type": "markdown",
   "metadata": {},
   "source": [
    "## PS 360 Communication\n",
    "\n",
    "Run in Venus on Dell 5750\n",
    "\n",
    "Based on [Cody Key's Soap 5.0](http://localhost:8888/notebooks/Dropbox/UC_Davis/Research/Projects/Radiation_Dose_Reporting/Code/From_Cody/soap5.0.ipynb)\n",
    "\n",
    "Requires creds.py containing variables username, password, url, site\n",
    "\n",
    "***Version History***\n",
    "1. Initial trial\n"
   ]
  },
  {
   "cell_type": "code",
   "execution_count": 1,
   "metadata": {},
   "outputs": [],
   "source": [
    "import creds\n",
    "from ps360_SOAP_12 import CustomFieldService, Explorer, DateParser, parseSearchByAccession"
   ]
  },
  {
   "cell_type": "code",
   "execution_count": 2,
   "metadata": {},
   "outputs": [],
   "source": [
    "# Initialize services\n",
    "explorer = Explorer(creds.url, creds.username, creds.password)"
   ]
  },
  {
   "cell_type": "code",
   "execution_count": 3,
   "metadata": {},
   "outputs": [],
   "source": [
    "customfield = CustomFieldService(creds.url, creds.username, creds.password)"
   ]
  },
  {
   "cell_type": "code",
   "execution_count": 4,
   "metadata": {},
   "outputs": [],
   "source": [
    "field_defs = customfield.GetCustomFieldDefinitions('202312042309')"
   ]
  },
  {
   "cell_type": "code",
   "execution_count": 5,
   "metadata": {},
   "outputs": [
    {
     "data": {
      "text/plain": [
       "[{'DefinitionID': '73',\n",
       "  'Site': 'UC Davis',\n",
       "  'Name': 'AirKerma',\n",
       "  'Type': 'Miscellaneous',\n",
       "  'Description': 'Air Kerma',\n",
       "  'IsRequired': 'false'},\n",
       " {'DefinitionID': '69',\n",
       "  'Site': 'UC Davis',\n",
       "  'Name': 'Contrast',\n",
       "  'Type': 'Miscellaneous',\n",
       "  'Description': 'Contrast',\n",
       "  'IsRequired': 'false'},\n",
       " {'DefinitionID': '66',\n",
       "  'Site': 'UC Davis',\n",
       "  'Name': 'Exam DOS',\n",
       "  'Type': 'Miscellaneous',\n",
       "  'Description': 'Exam Date of Service',\n",
       "  'IsRequired': 'false'},\n",
       " {'DefinitionID': '71',\n",
       "  'Site': 'UC Davis',\n",
       "  'Name': 'FluoroTime',\n",
       "  'Type': 'Miscellaneous',\n",
       "  'Description': 'Fluoroscopy time',\n",
       "  'IsRequired': 'false'},\n",
       " {'DefinitionID': '49',\n",
       "  'Site': 'UC Davis',\n",
       "  'Name': 'imOB_AFI_Q1',\n",
       "  'Type': 'Miscellaneous',\n",
       "  'Description': 'Amniotic Fluid Index (Q1)',\n",
       "  'IsRequired': 'false'},\n",
       " {'DefinitionID': '50',\n",
       "  'Site': 'UC Davis',\n",
       "  'Name': 'imOB_AFI_Q2',\n",
       "  'Type': 'Miscellaneous',\n",
       "  'Description': 'Amniotic Fluid Index (Q2)',\n",
       "  'IsRequired': 'false'},\n",
       " {'DefinitionID': '51',\n",
       "  'Site': 'UC Davis',\n",
       "  'Name': 'imOB_AFI_Q3',\n",
       "  'Type': 'Miscellaneous',\n",
       "  'Description': 'Amniotic Fluid Index (Q3)',\n",
       "  'IsRequired': 'false'},\n",
       " {'DefinitionID': '52',\n",
       "  'Site': 'UC Davis',\n",
       "  'Name': 'imOB_AFI_Q4',\n",
       "  'Type': 'Miscellaneous',\n",
       "  'Description': 'Amniotic Fluid Index (Q4)',\n",
       "  'IsRequired': 'false'},\n",
       " {'DefinitionID': '6',\n",
       "  'Site': 'UC Davis',\n",
       "  'Name': 'imOB_AFI_sum',\n",
       "  'Type': 'Miscellaneous',\n",
       "  'Description': 'Aminiotic Fluid Index (Sum)',\n",
       "  'IsRequired': 'false'},\n",
       " {'DefinitionID': '7',\n",
       "  'Site': 'UC Davis',\n",
       "  'Name': 'imOB_CEDD',\n",
       "  'Type': 'Miscellaneous',\n",
       "  'Description': 'Clinical EDD',\n",
       "  'IsRequired': 'false'},\n",
       " {'DefinitionID': '41',\n",
       "  'Site': 'UC Davis',\n",
       "  'Name': 'imOB_Cervix',\n",
       "  'Type': 'Miscellaneous',\n",
       "  'Description': 'Cervix length',\n",
       "  'IsRequired': 'false'},\n",
       " {'DefinitionID': '8',\n",
       "  'Site': 'UC Davis',\n",
       "  'Name': 'imOB_CGA',\n",
       "  'Type': 'Miscellaneous',\n",
       "  'Description': 'Clinical Gestational Age',\n",
       "  'IsRequired': 'false'},\n",
       " {'DefinitionID': '43',\n",
       "  'Site': 'UC Davis',\n",
       "  'Name': 'imOB_CI',\n",
       "  'Type': 'Miscellaneous',\n",
       "  'Description': 'Cephalic Index',\n",
       "  'IsRequired': 'false'},\n",
       " {'DefinitionID': '42',\n",
       "  'Site': 'UC Davis',\n",
       "  'Name': 'imOB_CUA',\n",
       "  'Type': 'Miscellaneous',\n",
       "  'Description': 'Composite Ultrasound Age',\n",
       "  'IsRequired': 'false'},\n",
       " {'DefinitionID': '10',\n",
       "  'Site': 'UC Davis',\n",
       "  'Name': 'imOB_LMP',\n",
       "  'Type': 'Miscellaneous',\n",
       "  'Description': 'Last Menstrual Period',\n",
       "  'IsRequired': 'false'},\n",
       " {'DefinitionID': '11',\n",
       "  'Site': 'UC Davis',\n",
       "  'Name': 'imOBA_AC',\n",
       "  'Type': 'Miscellaneous',\n",
       "  'Description': 'Abdominal Circumference (A)',\n",
       "  'IsRequired': 'false'},\n",
       " {'DefinitionID': '12',\n",
       "  'Site': 'UC Davis',\n",
       "  'Name': 'imOBA_ACGA',\n",
       "  'Type': 'Miscellaneous',\n",
       "  'Description': 'GA via AC (A)',\n",
       "  'IsRequired': 'false'},\n",
       " {'DefinitionID': '54',\n",
       "  'Site': 'UC Davis',\n",
       "  'Name': 'imOBA_ACGASD',\n",
       "  'Type': 'Miscellaneous',\n",
       "  'Description': 'AC GA Confidence',\n",
       "  'IsRequired': 'false'},\n",
       " {'DefinitionID': '13',\n",
       "  'Site': 'UC Davis',\n",
       "  'Name': 'imOBA_BPD',\n",
       "  'Type': 'Miscellaneous',\n",
       "  'Description': 'Average BPD (A)',\n",
       "  'IsRequired': 'false'},\n",
       " {'DefinitionID': '14',\n",
       "  'Site': 'UC Davis',\n",
       "  'Name': 'imOBA_BPDGA',\n",
       "  'Type': 'Miscellaneous',\n",
       "  'Description': 'GA via BPD (A)',\n",
       "  'IsRequired': 'false'},\n",
       " {'DefinitionID': '15',\n",
       "  'Site': 'UC Davis',\n",
       "  'Name': 'imOBA_BPDSD',\n",
       "  'Type': 'Miscellaneous',\n",
       "  'Description': 'BPD GA Confidence (A)',\n",
       "  'IsRequired': 'false'},\n",
       " {'DefinitionID': '16',\n",
       "  'Site': 'UC Davis',\n",
       "  'Name': 'imOBA_CRL',\n",
       "  'Type': 'Miscellaneous',\n",
       "  'Description': 'CRL (A)',\n",
       "  'IsRequired': 'false'},\n",
       " {'DefinitionID': '17',\n",
       "  'Site': 'UC Davis',\n",
       "  'Name': 'imOBA_CRLGA',\n",
       "  'Type': 'Miscellaneous',\n",
       "  'Description': 'GA via CRL (A)',\n",
       "  'IsRequired': 'false'},\n",
       " {'DefinitionID': '18',\n",
       "  'Site': 'UC Davis',\n",
       "  'Name': 'imOBA_EFW',\n",
       "  'Type': 'Miscellaneous',\n",
       "  'Description': 'Estimated Fetal Weight (A)',\n",
       "  'IsRequired': 'false'},\n",
       " {'DefinitionID': '19',\n",
       "  'Site': 'UC Davis',\n",
       "  'Name': 'imOBA_EFWPCT',\n",
       "  'Type': 'Miscellaneous',\n",
       "  'Description': 'EFW Percentile (A)',\n",
       "  'IsRequired': 'false'},\n",
       " {'DefinitionID': '55',\n",
       "  'Site': 'UC Davis',\n",
       "  'Name': 'imOBA_EFWSD',\n",
       "  'Type': 'Miscellaneous',\n",
       "  'Description': 'EFW Confidence',\n",
       "  'IsRequired': 'false'},\n",
       " {'DefinitionID': '20',\n",
       "  'Site': 'UC Davis',\n",
       "  'Name': 'imOBA_FHR',\n",
       "  'Type': 'Miscellaneous',\n",
       "  'Description': 'Fetal Heart Rate(A)',\n",
       "  'IsRequired': 'false'},\n",
       " {'DefinitionID': '21',\n",
       "  'Site': 'UC Davis',\n",
       "  'Name': 'imOBA_FL',\n",
       "  'Type': 'Miscellaneous',\n",
       "  'Description': 'Avg Femur Length (A)',\n",
       "  'IsRequired': 'false'},\n",
       " {'DefinitionID': '45',\n",
       "  'Site': 'UC Davis',\n",
       "  'Name': 'imOBA_FLAC',\n",
       "  'Type': 'Miscellaneous',\n",
       "  'Description': 'OB FL/AC (A)',\n",
       "  'IsRequired': 'false'},\n",
       " {'DefinitionID': '46',\n",
       "  'Site': 'UC Davis',\n",
       "  'Name': 'imOBA_FLBPD',\n",
       "  'Type': 'Miscellaneous',\n",
       "  'Description': 'OB FL/BPD (A)',\n",
       "  'IsRequired': 'false'},\n",
       " {'DefinitionID': '22',\n",
       "  'Site': 'UC Davis',\n",
       "  'Name': 'imOBA_FLGA',\n",
       "  'Type': 'Miscellaneous',\n",
       "  'Description': 'GA via FL (A)',\n",
       "  'IsRequired': 'false'},\n",
       " {'DefinitionID': '56',\n",
       "  'Site': 'UC Davis',\n",
       "  'Name': 'imOBA_FLGASD',\n",
       "  'Type': 'Miscellaneous',\n",
       "  'Description': 'FL GA COnfidence',\n",
       "  'IsRequired': 'false'},\n",
       " {'DefinitionID': '44',\n",
       "  'Site': 'UC Davis',\n",
       "  'Name': 'imOBA_FLHC',\n",
       "  'Type': 'Miscellaneous',\n",
       "  'Description': 'OB FL/AC (A)',\n",
       "  'IsRequired': 'false'},\n",
       " {'DefinitionID': '23',\n",
       "  'Site': 'UC Davis',\n",
       "  'Name': 'imOBA_GSAC',\n",
       "  'Type': 'Miscellaneous',\n",
       "  'Description': 'Gestational Sac mm (A)',\n",
       "  'IsRequired': 'false'},\n",
       " {'DefinitionID': '24',\n",
       "  'Site': 'UC Davis',\n",
       "  'Name': 'imOBA_GSACGA',\n",
       "  'Type': 'Miscellaneous',\n",
       "  'Description': 'GA via GSac (A)',\n",
       "  'IsRequired': 'false'},\n",
       " {'DefinitionID': '25',\n",
       "  'Site': 'UC Davis',\n",
       "  'Name': 'imOBA_HC',\n",
       "  'Type': 'Miscellaneous',\n",
       "  'Description': 'Head Circumference (A)',\n",
       "  'IsRequired': 'false'},\n",
       " {'DefinitionID': '26',\n",
       "  'Site': 'UC Davis',\n",
       "  'Name': 'imOBA_HCAC',\n",
       "  'Type': 'Miscellaneous',\n",
       "  'Description': 'OB HC/AC (A)',\n",
       "  'IsRequired': 'false'},\n",
       " {'DefinitionID': '27',\n",
       "  'Site': 'UC Davis',\n",
       "  'Name': 'imOBA_HCGA',\n",
       "  'Type': 'Miscellaneous',\n",
       "  'Description': 'GA via HC (A)',\n",
       "  'IsRequired': 'false'},\n",
       " {'DefinitionID': '53',\n",
       "  'Site': 'UC Davis',\n",
       "  'Name': 'imOBA_HCGASD',\n",
       "  'Type': 'Miscellaneous',\n",
       "  'Description': 'HC GA Confidence',\n",
       "  'IsRequired': 'false'},\n",
       " {'DefinitionID': '57',\n",
       "  'Site': 'UC Davis',\n",
       "  'Name': 'imOBA_HL',\n",
       "  'Type': 'Miscellaneous',\n",
       "  'Description': 'Humerus Length (A)',\n",
       "  'IsRequired': 'false'},\n",
       " {'DefinitionID': '58',\n",
       "  'Site': 'UC Davis',\n",
       "  'Name': 'imOBA_HLGA',\n",
       "  'Type': 'Miscellaneous',\n",
       "  'Description': 'GA via HL (A)',\n",
       "  'IsRequired': 'false'},\n",
       " {'DefinitionID': '59',\n",
       "  'Site': 'UC Davis',\n",
       "  'Name': 'imOBA_HLGASD',\n",
       "  'Type': 'Miscellaneous',\n",
       "  'Description': 'HL GA Confidence',\n",
       "  'IsRequired': 'false'},\n",
       " {'DefinitionID': '47',\n",
       "  'Site': 'UC Davis',\n",
       "  'Name': 'imOBA_OFD',\n",
       "  'Type': 'Miscellaneous',\n",
       "  'Description': 'OB OFD (A)',\n",
       "  'IsRequired': 'false'},\n",
       " {'DefinitionID': '63',\n",
       "  'Site': 'UC Davis',\n",
       "  'Name': 'imOBA_SEQ_ACGA',\n",
       "  'Type': 'Miscellaneous',\n",
       "  'Description': 'GA via AC from Sequoia (A)',\n",
       "  'IsRequired': 'false'},\n",
       " {'DefinitionID': '61',\n",
       "  'Site': 'UC Davis',\n",
       "  'Name': 'imOBA_SEQ_BPDGA',\n",
       "  'Type': 'Miscellaneous',\n",
       "  'Description': 'GA via BPD from Sequoia (A)',\n",
       "  'IsRequired': 'false'},\n",
       " {'DefinitionID': '60',\n",
       "  'Site': 'UC Davis',\n",
       "  'Name': 'imOBA_SEQ_CUA',\n",
       "  'Type': 'Miscellaneous',\n",
       "  'Description': 'Composite Ultrasound Age from Sequoia (A)',\n",
       "  'IsRequired': 'false'},\n",
       " {'DefinitionID': '64',\n",
       "  'Site': 'UC Davis',\n",
       "  'Name': 'imOBA_SEQ_FLGA',\n",
       "  'Type': 'Miscellaneous',\n",
       "  'Description': 'GA via FL from Sequoia (A)',\n",
       "  'IsRequired': 'false'},\n",
       " {'DefinitionID': '62',\n",
       "  'Site': 'UC Davis',\n",
       "  'Name': 'imOBA_SEQ_HCGA',\n",
       "  'Type': 'Miscellaneous',\n",
       "  'Description': 'GA via HC from Sequoia (A)',\n",
       "  'IsRequired': 'false'},\n",
       " {'DefinitionID': '65',\n",
       "  'Site': 'UC Davis',\n",
       "  'Name': 'imOBA_SEQ_HLGA',\n",
       "  'Type': 'Miscellaneous',\n",
       "  'Description': 'GA via HL for Sequoia (A)',\n",
       "  'IsRequired': 'false'},\n",
       " {'DefinitionID': '28',\n",
       "  'Site': 'UC Davis',\n",
       "  'Name': 'imOBA_USEDD',\n",
       "  'Type': 'Miscellaneous',\n",
       "  'Description': 'EDD via US (A)',\n",
       "  'IsRequired': 'false'},\n",
       " {'DefinitionID': '29',\n",
       "  'Site': 'UC Davis',\n",
       "  'Name': 'imOBA_USGA',\n",
       "  'Type': 'Miscellaneous',\n",
       "  'Description': 'Ultrasound GA (A)',\n",
       "  'IsRequired': 'false'},\n",
       " {'DefinitionID': '30',\n",
       "  'Site': 'UC Davis',\n",
       "  'Name': 'imOvary_l_ap',\n",
       "  'Type': 'Miscellaneous',\n",
       "  'Description': 'Ovary AP distance, left',\n",
       "  'IsRequired': 'false'},\n",
       " {'DefinitionID': '31',\n",
       "  'Site': 'UC Davis',\n",
       "  'Name': 'imOvary_l_lg',\n",
       "  'Type': 'Miscellaneous',\n",
       "  'Description': 'Ovary Long distance, left',\n",
       "  'IsRequired': 'false'},\n",
       " {'DefinitionID': '32',\n",
       "  'Site': 'UC Davis',\n",
       "  'Name': 'imOvary_l_trv',\n",
       "  'Type': 'Miscellaneous',\n",
       "  'Description': 'Ovary Transverse distance, left',\n",
       "  'IsRequired': 'false'},\n",
       " {'DefinitionID': '34',\n",
       "  'Site': 'UC Davis',\n",
       "  'Name': 'imOvary_l_vol',\n",
       "  'Type': 'Miscellaneous',\n",
       "  'Description': 'Ovary Volume, left',\n",
       "  'IsRequired': 'false'},\n",
       " {'DefinitionID': '33',\n",
       "  'Site': 'UC Davis',\n",
       "  'Name': 'imOvary_r_ap',\n",
       "  'Type': 'Miscellaneous',\n",
       "  'Description': 'Ovary AP distance, right',\n",
       "  'IsRequired': 'false'},\n",
       " {'DefinitionID': '35',\n",
       "  'Site': 'UC Davis',\n",
       "  'Name': 'imOvary_r_lg',\n",
       "  'Type': 'Miscellaneous',\n",
       "  'Description': 'Ovary Long distance, right',\n",
       "  'IsRequired': 'false'},\n",
       " {'DefinitionID': '36',\n",
       "  'Site': 'UC Davis',\n",
       "  'Name': 'imOvary_r_trv',\n",
       "  'Type': 'Miscellaneous',\n",
       "  'Description': 'Ovary Transverse distance, right',\n",
       "  'IsRequired': 'false'},\n",
       " {'DefinitionID': '37',\n",
       "  'Site': 'UC Davis',\n",
       "  'Name': 'imOvary_r_vol',\n",
       "  'Type': 'Miscellaneous',\n",
       "  'Description': 'Ovary Volume, right',\n",
       "  'IsRequired': 'false'},\n",
       " {'DefinitionID': '38',\n",
       "  'Site': 'UC Davis',\n",
       "  'Name': 'imUterus_ap',\n",
       "  'Type': 'Miscellaneous',\n",
       "  'Description': 'Uterus AP distance',\n",
       "  'IsRequired': 'false'},\n",
       " {'DefinitionID': '39',\n",
       "  'Site': 'UC Davis',\n",
       "  'Name': 'imUterus_lg',\n",
       "  'Type': 'Miscellaneous',\n",
       "  'Description': 'Uterus Long distance',\n",
       "  'IsRequired': 'false'},\n",
       " {'DefinitionID': '40',\n",
       "  'Site': 'UC Davis',\n",
       "  'Name': 'imUterus_trv',\n",
       "  'Type': 'Miscellaneous',\n",
       "  'Description': 'Uterus Transverse distance',\n",
       "  'IsRequired': 'false'},\n",
       " {'DefinitionID': '72',\n",
       "  'Site': 'UC Davis',\n",
       "  'Name': 'KAP',\n",
       "  'Type': 'Miscellaneous',\n",
       "  'Description': 'Kerma Area Product',\n",
       "  'IsRequired': 'false'},\n",
       " {'DefinitionID': '5',\n",
       "  'Site': 'UC Davis',\n",
       "  'Name': 'Radimetrics Dose Report',\n",
       "  'Type': 'Miscellaneous',\n",
       "  'Description': 'Radiation Dose Report',\n",
       "  'IsRequired': 'false'},\n",
       " {'DefinitionID': '68',\n",
       "  'Site': 'UC Davis',\n",
       "  'Name': 'Sedation',\n",
       "  'Type': 'Miscellaneous',\n",
       "  'Description': 'Sedation',\n",
       "  'IsRequired': 'false'}]"
      ]
     },
     "execution_count": 5,
     "metadata": {},
     "output_type": "execute_result"
    }
   ],
   "source": [
    "field_defs['soap:Envelope']['soap:Body']['GetCustomFieldDefinitionsResponse']['GetCustomFieldDefinitionsResult']['CustomFieldDefinition']"
   ]
  },
  {
   "cell_type": "code",
   "execution_count": 6,
   "metadata": {},
   "outputs": [
    {
     "data": {
      "text/plain": [
       "{'DefinitionID': '73',\n",
       " 'Site': 'UC Davis',\n",
       " 'Name': 'AirKerma',\n",
       " 'Type': 'Miscellaneous',\n",
       " 'Description': 'Air Kerma',\n",
       " 'IsRequired': 'false'}"
      ]
     },
     "execution_count": 6,
     "metadata": {},
     "output_type": "execute_result"
    }
   ],
   "source": [
    "field_defs['soap:Envelope']['soap:Body']['GetCustomFieldDefinitionsResponse']['GetCustomFieldDefinitionsResult']['CustomFieldDefinition'][0]"
   ]
  },
  {
   "cell_type": "code",
   "execution_count": 7,
   "metadata": {},
   "outputs": [
    {
     "data": {
      "text/plain": [
       "{'DefinitionID': '71',\n",
       " 'Site': 'UC Davis',\n",
       " 'Name': 'FluoroTime',\n",
       " 'Type': 'Miscellaneous',\n",
       " 'Description': 'Fluoroscopy time',\n",
       " 'IsRequired': 'false'}"
      ]
     },
     "execution_count": 7,
     "metadata": {},
     "output_type": "execute_result"
    }
   ],
   "source": [
    "dicts = field_defs['soap:Envelope']['soap:Body']['GetCustomFieldDefinitionsResponse']['GetCustomFieldDefinitionsResult']['CustomFieldDefinition']\n",
    "d = next(item for item in dicts if item[\"Name\"] == \"FluoroTime\")\n",
    "d"
   ]
  },
  {
   "cell_type": "code",
   "execution_count": 8,
   "metadata": {},
   "outputs": [
    {
     "data": {
      "text/plain": [
       "{'DefinitionID': '73',\n",
       " 'Site': 'UC Davis',\n",
       " 'Name': 'AirKerma',\n",
       " 'Type': 'Miscellaneous',\n",
       " 'Description': 'Air Kerma',\n",
       " 'IsRequired': 'false'}"
      ]
     },
     "execution_count": 8,
     "metadata": {},
     "output_type": "execute_result"
    }
   ],
   "source": [
    "dicts = field_defs['soap:Envelope']['soap:Body']['GetCustomFieldDefinitionsResponse']['GetCustomFieldDefinitionsResult']['CustomFieldDefinition']\n",
    "d = next(item for item in dicts if item[\"Name\"] == \"AirKerma\")\n",
    "d"
   ]
  },
  {
   "cell_type": "code",
   "execution_count": 9,
   "metadata": {},
   "outputs": [],
   "source": [
    "acc = explorer.SearchByAccession('202312042309')"
   ]
  },
  {
   "cell_type": "code",
   "execution_count": 10,
   "metadata": {},
   "outputs": [
    {
     "data": {
      "text/plain": [
       "dict"
      ]
     },
     "execution_count": 10,
     "metadata": {},
     "output_type": "execute_result"
    }
   ],
   "source": [
    "type(acc)"
   ]
  },
  {
   "cell_type": "code",
   "execution_count": 11,
   "metadata": {},
   "outputs": [
    {
     "data": {
      "text/plain": [
       "'5700918'"
      ]
     },
     "execution_count": 11,
     "metadata": {},
     "output_type": "execute_result"
    }
   ],
   "source": [
    "acc['soap:Envelope']['soap:Body']['SearchByAccessionResponse']['SearchByAccessionResult']['OrderData']['OrderID']"
   ]
  },
  {
   "cell_type": "code",
   "execution_count": 12,
   "metadata": {},
   "outputs": [
    {
     "name": "stdout",
     "output_type": "stream",
     "text": [
      "5700918 <class 'int'>\n"
     ]
    }
   ],
   "source": [
    "print(parseSearchByAccession(acc,'OrderID'),type(parseSearchByAccession(acc,'OrderID')))"
   ]
  },
  {
   "cell_type": "code",
   "execution_count": 13,
   "metadata": {},
   "outputs": [
    {
     "name": "stdout",
     "output_type": "stream",
     "text": [
      "5700918 <class 'int'>\n"
     ]
    }
   ],
   "source": [
    "OrderID = parseSearchByAccession(explorer.SearchByAccession('202312042309'),'OrderID')\n",
    "print(OrderID,type(OrderID))"
   ]
  },
  {
   "cell_type": "code",
   "execution_count": 14,
   "metadata": {},
   "outputs": [
    {
     "data": {
      "text/plain": [
       "{'soap:Envelope': {'@xmlns:soap': 'http://www.w3.org/2003/05/soap-envelope',\n",
       "  '@xmlns:xsi': 'http://www.w3.org/2001/XMLSchema-instance',\n",
       "  '@xmlns:xsd': 'http://www.w3.org/2001/XMLSchema',\n",
       "  'soap:Body': {'SetOrderCustomFieldByNameResponse': {'@xmlns': 'http://nuance.com/commissure/webservices/customfield/2008/06'}}}}"
      ]
     },
     "execution_count": 14,
     "metadata": {},
     "output_type": "execute_result"
    }
   ],
   "source": [
    "customfield.SetOrderCustomFieldByName(OrderID,'AirKerma','3.7')"
   ]
  },
  {
   "cell_type": "code",
   "execution_count": null,
   "metadata": {},
   "outputs": [],
   "source": [
    "customfield.SetOrderCustomFieldByName(OrderID,'FluoroTime','0.5')"
   ]
  },
  {
   "cell_type": "code",
   "execution_count": null,
   "metadata": {},
   "outputs": [],
   "source": [
    "customfield.SetOrderCustomFieldByName(OrderID,'KAP','56.3')"
   ]
  },
  {
   "cell_type": "code",
   "execution_count": null,
   "metadata": {},
   "outputs": [],
   "source": []
  },
  {
   "cell_type": "code",
   "execution_count": null,
   "metadata": {},
   "outputs": [],
   "source": [
    "print(parseSearchByAccession(acc,'OrderDate'),type(parseSearchByAccession(acc,'OrderDate')))"
   ]
  },
  {
   "cell_type": "code",
   "execution_count": null,
   "metadata": {},
   "outputs": [],
   "source": [
    "from datetime import datetime"
   ]
  },
  {
   "cell_type": "code",
   "execution_count": null,
   "metadata": {},
   "outputs": [],
   "source": [
    "datetime.strptime('2023-12-04T16:22:00-08:00', '%y-%m-%dT%H:%M:%S-%H:%M')"
   ]
  },
  {
   "cell_type": "code",
   "execution_count": null,
   "metadata": {},
   "outputs": [],
   "source": [
    "# Use the services\n",
    "orders_response = explorer.browse_orders(start=\"9/12/2023\", end=\"9/14/2023\")"
   ]
  },
  {
   "cell_type": "code",
   "execution_count": null,
   "metadata": {},
   "outputs": [],
   "source": [
    "orders_response['soap:Envelope']['soap:Body']['BrowseOrdersResponse']['BrowseOrdersResult']['OrderData']"
   ]
  },
  {
   "cell_type": "code",
   "execution_count": null,
   "metadata": {},
   "outputs": [],
   "source": [
    "root_url = \"http://hsradpsapp01.ucdmc.ucdavis.edu/RadPortal\"\n",
    "\n",
    "# namespaces by service\n",
    "namespaces = {\n",
    "    'auth':        '2008/05',\n",
    "    'system':      '2010/06',\n",
    "    'explorer':    '2010/06',\n",
    "    'order':       '2010/06',\n",
    "    'report':      '2010/06',\n",
    "    'customfield': '2008/06'\n",
    "}\n",
    "\n",
    "\n",
    "### Base service\n",
    "\n",
    "\n",
    "### auth service\n",
    "url = root_url + \"/services/auth.asmx\"h\n",
    "## SignIn\n",
    "## SignOut\n",
    "\n",
    "### system service\n",
    "url = root_url + \"/services/system.asmx\"\n",
    "## GetSites\n",
    "## GetWorklists\n",
    "## GetSitePhysicians\n",
    "## GetSiteLocations\n",
    "## GetSiteSections\n",
    "## GetActiveAccounts\n",
    "## GetAccountByUsername\n",
    "\n",
    "### explorer service\n",
    "url = root_url + \"/services/explorer.asmx\"\n",
    "## SearchByAccession\n",
    "## SearchByAccessionEx\n",
    "## SearchByPatientIdentifier\n",
    "## SearchByPatientIdentifierEx\n",
    "## SearchByPatientName\n",
    "## SearchByPatientNameEx\n",
    "## ViewWorklist\n",
    "## ViewWorklistEx\n",
    "## BrowseOrders\n",
    "## BrowseOrdersEx\n",
    "## GetSigningQueue\n",
    "## GetSigningQueueEx\n",
    "## GetSigningQueueCount\n",
    "\n",
    "### order service\n",
    "url = root_url + \"/services/order.asmx\"\n",
    "## GetOrder\n",
    "## AssignOrder\n",
    "## AssignOrderByAccession\n",
    "## SaveOrder\n",
    "## GetPatient\n",
    "## SavePatient\n",
    "## GetPhysician\n",
    "## SavePhysician\n",
    "## DeletePhysician\n",
    "\n",
    "### report service\n",
    "url = root_url + \"/services/report.asmx\"\n",
    "## GetReport\n",
    "## GetReportChain\n",
    "## GetReportAudioURL\n",
    "## AssignReport\n",
    "## CreateReport\n",
    "## CreateReportForAccessions\n",
    "## UpdateReportText\n",
    "## SetBIRADSCode\n",
    "## GetReportDocument\n",
    "\n",
    "### custom fields service\n",
    "url = root_url + \"/services/customfield.asmx\"\n",
    "## GetCustomFieldDefinitions\n",
    "## SetOrderCustomField\n",
    "## SetOrderCustomFieldByName\n",
    "## SetReportCustomField\n",
    "## SetReportCustomFieldByName"
   ]
  },
  {
   "cell_type": "code",
   "execution_count": null,
   "metadata": {},
   "outputs": [],
   "source": [
    "DateParser.parse_date('03/1/2023')"
   ]
  },
  {
   "cell_type": "code",
   "execution_count": null,
   "metadata": {},
   "outputs": [],
   "source": [
    "type(DateParser.parse_date('03/1/2023'))"
   ]
  },
  {
   "cell_type": "code",
   "execution_count": null,
   "metadata": {},
   "outputs": [],
   "source": []
  }
 ],
 "metadata": {
  "kernelspec": {
   "display_name": "Python 3 (ipykernel)",
   "language": "python",
   "name": "python3"
  },
  "language_info": {
   "codemirror_mode": {
    "name": "ipython",
    "version": 3
   },
   "file_extension": ".py",
   "mimetype": "text/x-python",
   "name": "python",
   "nbconvert_exporter": "python",
   "pygments_lexer": "ipython3",
   "version": "3.11.6"
  }
 },
 "nbformat": 4,
 "nbformat_minor": 4
}
